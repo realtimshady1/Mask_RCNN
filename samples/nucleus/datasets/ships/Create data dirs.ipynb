{
 "cells": [
  {
   "cell_type": "code",
   "execution_count": 28,
   "metadata": {},
   "outputs": [],
   "source": [
    "import os\n",
    "from tqdm import tqdm\n",
    "from shutil import copy"
   ]
  },
  {
   "cell_type": "code",
   "execution_count": 29,
   "metadata": {},
   "outputs": [],
   "source": [
    "old_image_path = 'image/'\n",
    "old_mask_path = 'mask/'\n",
    "\n",
    "new_dir = 'stage1_train/'"
   ]
  },
  {
   "cell_type": "code",
   "execution_count": 30,
   "metadata": {},
   "outputs": [
    {
     "name": "stdout",
     "output_type": "stream",
     "text": [
      "Length of image list: 86\n",
      "Length of mask list: 86\n",
      "Length of new list: 0\n"
     ]
    }
   ],
   "source": [
    "image_list = os.listdir(old_image_path)\n",
    "mask_list = os.listdir(old_mask_path)\n",
    "new_list = os.listdir(new_dir)\n",
    "\n",
    "print('Length of image list:', len(image_list))\n",
    "print('Length of mask list:', len(mask_list))\n",
    "print('Length of new list:', len(new_list))"
   ]
  },
  {
   "cell_type": "code",
   "execution_count": 31,
   "metadata": {},
   "outputs": [
    {
     "name": "stdout",
     "output_type": "stream",
     "text": [
      "100000828\n",
      ".png\n"
     ]
    }
   ],
   "source": [
    "# Testing splitext function\n",
    "image = image_list[0]\n",
    "print(os.path.splitext(image)[0])\n",
    "print(os.path.splitext(image)[1])"
   ]
  },
  {
   "cell_type": "code",
   "execution_count": 32,
   "metadata": {},
   "outputs": [
    {
     "name": "stderr",
     "output_type": "stream",
     "text": [
      " 50%|████████████████████████████████████████▌                                        | 43/86 [00:00<00:00, 208.30it/s]\n"
     ]
    }
   ],
   "source": [
    "for image in tqdm(image_list):\n",
    "    dir_name = os.path.splitext(image)[0]\n",
    "    assert image in mask_list, \"Missing image label in mask list\"\n",
    "    assert dir_name not in new_list, \"Image already exists in the new directory\"\n",
    "    os.mkdir(new_dir+dir_name)\n",
    "    \n",
    "    image_dir = new_dir+dir_name+'/images/'\n",
    "    mask_dir = new_dir+dir_name+'/masks/'\n",
    "    \n",
    "    os.mkdir(image_dir)\n",
    "    os.mkdir(mask_dir)\n",
    "    \n",
    "    copy(old_image_path+image, image_dir+image)\n",
    "    copy(old_mask_path+image, mask_dir+image)\n",
    "    \n",
    "    image_list.remove(image)\n",
    "    mask_list.remove(image)"
   ]
  },
  {
   "cell_type": "code",
   "execution_count": null,
   "metadata": {},
   "outputs": [],
   "source": []
  }
 ],
 "metadata": {
  "kernelspec": {
   "display_name": "Python 3",
   "language": "python",
   "name": "python3"
  },
  "language_info": {
   "codemirror_mode": {
    "name": "ipython",
    "version": 3
   },
   "file_extension": ".py",
   "mimetype": "text/x-python",
   "name": "python",
   "nbconvert_exporter": "python",
   "pygments_lexer": "ipython3",
   "version": "3.8.3"
  }
 },
 "nbformat": 4,
 "nbformat_minor": 4
}
